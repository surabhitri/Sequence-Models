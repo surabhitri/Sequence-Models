{
  "cells": [
    {
      "cell_type": "markdown",
      "metadata": {
        "id": "view-in-github",
        "colab_type": "text"
      },
      "source": [
        "<a href=\"https://colab.research.google.com/github/surabhitri/Sequence-Models/blob/main/LabRNN.ipynb\" target=\"_parent\"><img src=\"https://colab.research.google.com/assets/colab-badge.svg\" alt=\"Open In Colab\"/></a>"
      ]
    },
    {
      "cell_type": "markdown",
      "metadata": {
        "id": "AhDUFBxt9xZg"
      },
      "source": [
        "# Implement and train a LSTM for sentiment analysis\n",
        "\n",
        "(General Hint on Lab 1/2: Trust whatever you see from the training and report it on PDF. IDMB is far from ideal as it's more like a real-world dataset)"
      ]
    },
    {
      "cell_type": "markdown",
      "metadata": {
        "id": "gW6ymxu99xZk"
      },
      "source": [
        "## Step 0: set up the environment"
      ]
    },
    {
      "cell_type": "code",
      "execution_count": null,
      "metadata": {
        "colab": {
          "base_uri": "https://localhost:8080/"
        },
        "id": "Spc_UH4B9xZl",
        "outputId": "7d5c0b89-b941-4fe6-fdd8-00405a5bad4c"
      },
      "outputs": [
        {
          "output_type": "stream",
          "name": "stderr",
          "text": [
            "[nltk_data] Downloading package stopwords to /root/nltk_data...\n",
            "[nltk_data]   Unzipping corpora/stopwords.zip.\n"
          ]
        }
      ],
      "source": [
        "import functools\n",
        "import sys\n",
        "import numpy as np\n",
        "import pandas as pd\n",
        "import random\n",
        "import re\n",
        "import matplotlib.pyplot as plt\n",
        "import tqdm\n",
        "import nltk\n",
        "from sklearn.model_selection import train_test_split\n",
        "from nltk.corpus import stopwords\n",
        "from collections import Counter\n",
        "import torch\n",
        "import torch.nn as nn\n",
        "import torch.optim as optim\n",
        "from torch.utils.data import Dataset\n",
        "from torch.utils.data import DataLoader\n",
        "\n",
        "nltk.download('stopwords')\n",
        "\n",
        "torch.backends.cudnn.benchmark = True\n",
        "\n",
        "import os\n",
        "os.makedirs(\"resources\", exist_ok=True)"
      ]
    },
    {
      "cell_type": "markdown",
      "metadata": {
        "id": "t90r8u0CC7J4"
      },
      "source": [
        "### Hyperparameters. Do not directly touch this to mess up settings.\n",
        "\n",
        "If you want to initalize new hyperparameter sets, use \"new_hparams = HyperParams()\" and change corresponding fields."
      ]
    },
    {
      "cell_type": "code",
      "execution_count": null,
      "metadata": {
        "id": "OxnFjs3f9xZn"
      },
      "outputs": [],
      "source": [
        "class HyperParams:\n",
        "    def __init__(self):\n",
        "        # Constance hyperparameters. They have been tested and don't need to be tuned.\n",
        "        self.PAD_INDEX = 0\n",
        "        self.UNK_INDEX = 1\n",
        "        self.PAD_TOKEN = '<pad>'\n",
        "        self.UNK_TOKEN = '<unk>'\n",
        "        self.STOP_WORDS = set(stopwords.words('english'))\n",
        "        self.MAX_LENGTH = 256\n",
        "        self.BATCH_SIZE = 96\n",
        "        self.EMBEDDING_DIM = 1\n",
        "        self.HIDDEN_DIM = 100\n",
        "        self.OUTPUT_DIM = 2\n",
        "        self.N_LAYERS = 1\n",
        "        self.DROPOUT_RATE = 0.0\n",
        "        self.LR = 0.01\n",
        "        self.N_EPOCHS = 5\n",
        "        self.WD = 0\n",
        "        self.OPTIM = \"sgd\"\n",
        "        self.BIDIRECTIONAL = False\n",
        "        self.SEED = 2"
      ]
    },
    {
      "cell_type": "markdown",
      "metadata": {
        "id": "XODz_aDV9xZo"
      },
      "source": [
        "## Lab 1(a) Implement your own data loader function.  \n",
        "First, you need to read the data from the dataset file on the local disk. \n",
        "Then, split the dataset into three sets: train, validation and test by 7:1:2 ratio.\n",
        "Finally return x_train, x_valid, x_test, y_train, y_valid, y_test where x represents reviews and y represent labels.  "
      ]
    },
    {
      "cell_type": "code",
      "execution_count": null,
      "metadata": {
        "colab": {
          "base_uri": "https://localhost:8080/"
        },
        "id": "5tnowdWrX6qg",
        "outputId": "bbedb7e5-c0e3-447f-8b0f-93b0762ea322"
      },
      "outputs": [
        {
          "output_type": "stream",
          "name": "stdout",
          "text": [
            "Mounted at /content/drive\n"
          ]
        }
      ],
      "source": [
        "from google.colab import drive\n",
        "drive.mount('/content/drive')"
      ]
    },
    {
      "cell_type": "code",
      "execution_count": null,
      "metadata": {
        "id": "AD7HSvM19xZp"
      },
      "outputs": [],
      "source": [
        "def load_imdb(base_csv:str = './IMDBDataset.csv'):\n",
        "    \"\"\"\n",
        "    Load the IMDB dataset\n",
        "    :param base_csv: the path of the dataset file.\n",
        "    :return: train, validation and test set.\n",
        "    \"\"\"\n",
        "    # Add your code here. \n",
        "    data = pd.read_csv('/content/drive/MyDrive/Deep Learning/Assignment 3/IMDBDataset.csv')\n",
        "    X = data[\"review\"]\n",
        "    y = data[\"sentiment\"]\n",
        "\n",
        "    X_train_test, X_val, y_train_test, y_val = train_test_split(X, y, test_size=0.1, random_state=1)\n",
        "\n",
        "    X_train, X_test, y_train, y_test = train_test_split(X_train_test, y_train_test, test_size=0.22222, random_state=1)\n",
        "    \n",
        "    print(f'shape of train data is {X_train.shape}')\n",
        "    print(f'shape of test data is {X_test.shape}')\n",
        "    print(f'shape of valid data is {X_val.shape}')\n",
        "    return X_train, X_val, X_test, y_train, y_val, y_test"
      ]
    },
    {
      "cell_type": "code",
      "execution_count": null,
      "metadata": {
        "colab": {
          "base_uri": "https://localhost:8080/"
        },
        "id": "IFhnoDLV8_Ok",
        "outputId": "de861977-cb21-4340-eef8-fc02f94fb865"
      },
      "outputs": [
        {
          "output_type": "stream",
          "name": "stdout",
          "text": [
            "shape of train data is (35000,)\n",
            "shape of test data is (10000,)\n",
            "shape of valid data is (5000,)\n"
          ]
        }
      ],
      "source": [
        "X_train, X_val, X_test, y_train, y_val, y_test = load_imdb()"
      ]
    },
    {
      "cell_type": "markdown",
      "metadata": {
        "id": "KYVH6t--9xZq"
      },
      "source": [
        "## Lab 1(b): Implement your function to build a vocabulary based on the training corpus.\n",
        "Implement the build_vocab function to build a vocabulary based on the training corpus.\n",
        "You should first compute the frequency of all the words in the training corpus. Remove the words\n",
        "that are in the STOP_WORDS. Then filter the words by their frequency (≥ min_freq) and finally\n",
        "generate a corpus variable that contains a list of words."
      ]
    },
    {
      "cell_type": "code",
      "source": [
        "#x_train = list(X_train)\n",
        "def build_vocab(x_train:list, min_freq: int=5, hparams=HyperParams()) -> dict:\n",
        "    \"\"\"\n",
        "    build a vocabulary based on the training corpus.\n",
        "    :param x_train:  List. The training corpus. Each sample in the list is a string of text.\n",
        "    :param min_freq: Int. The frequency threshold for selecting words.\n",
        "    :return: dictionary {word:index}\n",
        "    \"\"\"\n",
        "    corpus = []\n",
        "    # Add your code here. Your code should assign corpus with a list of words.\n",
        "    for i in range(len(x_train)):\n",
        "      for word in x_train[i].split():\n",
        "        corpus.append(word)\n",
        "\n",
        "    [x.lower() for x in corpus]\n",
        "\n",
        "    corpus_wo_stop = []\n",
        "    # Removing stop words\n",
        "    for i in range(len(corpus)):\n",
        "      if corpus[i] not in hparams.STOP_WORDS:\n",
        "        corpus_wo_stop.append(corpus[i])\n",
        "\n",
        "    # Creating dictionary of words in corpus with their frequency\n",
        "    freq_corpus = {}\n",
        "    for item in corpus_wo_stop:\n",
        "        if (item in freq_corpus):\n",
        "            freq_corpus[item] += 1\n",
        "        else:\n",
        "            freq_corpus[item] = 1\n",
        "\n",
        "    # sorting on the basis of most common words\n",
        "    # corpus_ = sorted(corpus, key=corpus.get, reverse=True)[:1000]\n",
        "    corpus_ = [word for word, freq in freq_corpus.items() if freq >= min_freq]\n",
        "    #print(corpus_)\n",
        "    # creating a dict\n",
        "    vocab = {w:i+2 for i, w in enumerate(corpus_)}\n",
        "    vocab[hparams.PAD_TOKEN] = hparams.PAD_INDEX\n",
        "    vocab[hparams.UNK_TOKEN] = hparams.UNK_INDEX\n",
        "    return vocab"
      ],
      "metadata": {
        "id": "OB-sf4rzoXNa"
      },
      "execution_count": null,
      "outputs": []
    },
    {
      "cell_type": "code",
      "source": [
        "vocab = build_vocab(list(X_train))"
      ],
      "metadata": {
        "id": "opA4Bf2uIOFo"
      },
      "execution_count": null,
      "outputs": []
    },
    {
      "cell_type": "markdown",
      "metadata": {
        "id": "Ca71G17F9xZt"
      },
      "source": [
        "## Lab 1(c): Implement your tokenize function. \n",
        "For each word, find its index in the vocabulary. \n",
        "Return a list of int that represents the indices of words in the example. "
      ]
    },
    {
      "cell_type": "code",
      "execution_count": null,
      "metadata": {
        "id": "c6kj_qT69xZt"
      },
      "outputs": [],
      "source": [
        "def tokenize(vocab: dict, example: str)-> list:\n",
        "    \"\"\"\n",
        "    Tokenize the give example string into a list of token indices.\n",
        "    :param vocab: dict, the vocabulary.\n",
        "    :param example: a string of text.\n",
        "    :return: a list of token indices.\n",
        "    \"\"\"\n",
        "    # Your code here.\n",
        "    exp = re.findall(r'\\w+', example)\n",
        "    exp = [x for x in exp if not any(y.isdigit() for y in x)]\n",
        "    exp= [i.lower() for i in exp if i!= \"br\"]\n",
        "    token_indices = []\n",
        "    for i in exp:\n",
        "      if i in vocab.keys():\n",
        "        token_indices.append(vocab[i])\n",
        "      else:\n",
        "        token_indices.append(1)\n",
        "\n",
        "    return token_indices"
      ]
    },
    {
      "cell_type": "code",
      "source": [
        "token_indices = tokenize(vocab, X_train[1])"
      ],
      "metadata": {
        "id": "HbgnPmwCVlI_"
      },
      "execution_count": null,
      "outputs": []
    },
    {
      "cell_type": "markdown",
      "metadata": {
        "id": "e9ntSo4k9xZu"
      },
      "source": [
        "## Lab 1 (d): Implement the __getitem__ function. Given an index i, you should return the i-th review and label. \n",
        "The review is originally a string. Please tokenize it into a sequence of token indices. \n",
        "Use the max_length parameter to truncate the sequence so that it contains at most max_length tokens. \n",
        "Convert the label string ('positive'/'negative') to a binary index. 'positive' is 1 and 'negative' is 0. \n",
        "Return a dictionary containing three keys: 'ids', 'length', 'label' which represent the list of token ids, the length of the sequence, the binary label. "
      ]
    },
    {
      "cell_type": "code",
      "execution_count": null,
      "metadata": {
        "id": "2TDgA4p79xZu"
      },
      "outputs": [],
      "source": [
        "from pygments import token\n",
        "class IMDB(Dataset):\n",
        "    def __init__(self, x, y, vocab, max_length=256) -> None:\n",
        "        \"\"\"\n",
        "        :param x: list of reviews\n",
        "        :param y: list of labels\n",
        "        :param vocab: vocabulary dictionary {word:index}.\n",
        "        :param max_length: the maximum sequence length.\n",
        "        \"\"\"\n",
        "        self.x = x\n",
        "        self.y = y\n",
        "        self.vocab = vocab\n",
        "        self.max_length = max_length\n",
        "\n",
        "    def __getitem__(self, idx: int):\n",
        "        \"\"\"\n",
        "        Return the tokenized review and label by the given index.\n",
        "        :param idx: index of the sample.\n",
        "        :return: a dictionary containing three keys: 'ids', 'length', 'label' which represent the list of token ids, the length of the sequence, the binary label.\n",
        "        \"\"\"\n",
        "        # Add your code here.\n",
        "        # converting label to binary string\n",
        "        if self.y[idx] == 'positive':\n",
        "          self.y[idx] = 1\n",
        "        elif self.y[idx] == 'negative':\n",
        "          self.y[idx] = 0\n",
        "\n",
        "        # tokenize the review into token indices\n",
        "        token_indices = tokenize(self.vocab, self.x[idx])\n",
        "        n = len(token_indices)\n",
        "\n",
        "        # truncating the sequence to contain at most max_lenth params\n",
        "        if n > self.max_length:\n",
        "          for i in range(0, n - self.max_length):\n",
        "            token_indices.pop()\n",
        "        \n",
        "        # creating the dict\n",
        "        dict = {'ids': token_indices, 'length': len(token_indices), 'label': self.y[idx]}\n",
        "        #print(dict['label'])\n",
        "        return dict\n",
        "        \n",
        "    def __len__(self) -> int:\n",
        "        return len(self.x)\n",
        "\n",
        "def collate(batch, pad_index):\n",
        "    batch_ids = [torch.LongTensor(i['ids']) for i in batch]\n",
        "    batch_ids = nn.utils.rnn.pad_sequence(batch_ids, padding_value=pad_index, batch_first=True)\n",
        "    batch_length = torch.Tensor([i['length'] for i in batch])\n",
        "    batch_label = torch.LongTensor([i['label'] for i in batch])\n",
        "    batch = {'ids': batch_ids, 'length': batch_length, 'label': batch_label}\n",
        "    return batch\n",
        "\n",
        "collate_fn = collate"
      ]
    },
    {
      "cell_type": "code",
      "source": [
        "\n",
        "myclass = IMDB(list(X_train[20:30]), list(y_train[20:30]), vocab)\n",
        "myclass.__getitem__(2)"
      ],
      "metadata": {
        "id": "0Xw9tqzOw3ir"
      },
      "execution_count": null,
      "outputs": []
    },
    {
      "cell_type": "markdown",
      "metadata": {
        "id": "1zgSPYmf9xZv"
      },
      "source": [
        "## Lab 1 (e): Implement the LSTM model for sentiment analysis.\n",
        "Q(a): Implement the initialization function.\n",
        "Your task is to create the model by stacking several necessary layers including an embedding layer, a lstm cell, a linear layer, and a dropout layer.\n",
        "You can call functions from Pytorch's nn library. For example, nn.Embedding, nn.LSTM, nn.Linear.<br>\n",
        "Q(b): Implement the forward function.\n",
        "    Decide where to apply dropout. \n",
        "    The sequences in the batch have different lengths. Write/call a function to pad the sequences into the same length. \n",
        "    Apply a fully-connected (fc) layer to the output of the LSTM layer. \n",
        "    Return the output features which is of size [batch size, output dim]. "
      ]
    },
    {
      "cell_type": "code",
      "execution_count": null,
      "metadata": {
        "id": "b9ofQ5R29xZv"
      },
      "outputs": [],
      "source": [
        "from torch.autograd import Variable\n",
        "def init_weights(m):\n",
        "    if isinstance(m, nn.Embedding):\n",
        "        nn.init.xavier_normal_(m.weight)\n",
        "    elif isinstance(m, nn.Linear):\n",
        "        nn.init.xavier_normal_(m.weight)\n",
        "        nn.init.zeros_(m.bias)\n",
        "    elif isinstance(m, nn.LSTM) or isinstance(m, nn.GRU):\n",
        "        for name, param in m.named_parameters():\n",
        "            if 'bias' in name:\n",
        "                nn.init.zeros_(param)\n",
        "            elif 'weight' in name:\n",
        "                nn.init.orthogonal_(param)\n",
        "                \n",
        "class LSTM(nn.Module):\n",
        "    def __init__(\n",
        "        self, \n",
        "        vocab_size: int, \n",
        "        embedding_dim: int, \n",
        "        hidden_dim: int, \n",
        "        output_dim: int, \n",
        "        n_layers: int, \n",
        "        dropout_rate: float, \n",
        "        pad_index: int,\n",
        "        bidirectional: bool,\n",
        "        **kwargs):\n",
        "        \"\"\"\n",
        "        Create a LSTM model for classification.\n",
        "        :param vocab_size: size of the vocabulary\n",
        "        :param embedding_dim: dimension of embeddings\n",
        "        :param hidden_dim: dimension of hidden features\n",
        "        :param output_dim: dimension of the output layer which equals to the number of labels.\n",
        "        :param n_layers: number of layers.\n",
        "        :param dropout_rate: dropout rate.\n",
        "        :param pad_index: index of the padding token.we\n",
        "        \"\"\"\n",
        "        super().__init__()\n",
        "        # Add your code here. Initializing each layer by the given arguments.\n",
        "        self.vocab_size = vocab_size\n",
        "        self.embedding_dim = embedding_dim\n",
        "        self.hidden_dim = hidden_dim\n",
        "        self.output_dim = output_dim\n",
        "        self.n_layers = n_layers\n",
        "        self.dropout_rate = dropout_rate\n",
        "        self.pad_index = pad_index\n",
        "        self.bidirectional = bidirectional\n",
        "        # emedding layer\n",
        "        self.embedding = nn.Embedding(num_embeddings = vocab_size, embedding_dim = embedding_dim, padding_idx = pad_index)\n",
        "        # lstm layer\n",
        "        self.lstm = nn.LSTM(input_size = embedding_dim, hidden_size = hidden_dim, num_layers = n_layers, bidirectional = bidirectional, batch_first=True)\n",
        "        # dropout layer\n",
        "        #self.dropout = nn.Dropout(dropout_rate)\n",
        "        # linear layer\n",
        "        self.fc = nn.Linear(hidden_dim, output_dim)\n",
        "\n",
        "        # Weight initialization. DO NOT CHANGE!\n",
        "        if \"weight_init_fn\" not in kwargs:\n",
        "            self.apply(init_weights)\n",
        "        else:\n",
        "            self.apply(kwargs[\"weight_init_fn\"])\n",
        "\n",
        "\n",
        "    def forward(self, ids:torch.Tensor, length:torch.Tensor):\n",
        "        \"\"\"\n",
        "        Feed the given token ids to the model.\n",
        "        :param ids: [batch size, seq len] batch of token ids.\n",
        "        :param length: [batch size] batch of length of the token ids.\n",
        "        :return: prediction of size [batch size, output dim].\n",
        "        \"\"\"\n",
        "        # Add your code here.\n",
        "        a = self.embedding(ids)\n",
        "        a = torch.nn.utils.rnn.pack_padded_sequence(a, batch_first=True, lengths=length, enforce_sorted=False)\n",
        "        # Propagate input through LSTM\n",
        "        output, (hidden, cell) = self.lstm(a.float())\n",
        "        # without drop out layer\n",
        "        prediction = self.fc(hidden[-1])\n",
        "        # with drop out layer\n",
        "        #prediction = self.fc(self.dropout(hidden[-1]))\n",
        "        return prediction"
      ]
    },
    {
      "cell_type": "code",
      "execution_count": null,
      "metadata": {
        "id": "13Sdl7MV9xZv"
      },
      "outputs": [],
      "source": [
        "def count_parameters(model):\n",
        "    return sum(p.numel() for p in model.parameters() if p.requires_grad)\n",
        "\n",
        "\n",
        "def train(dataloader, model, criterion, optimizer, scheduler, device):\n",
        "    model.train()\n",
        "    epoch_losses = []\n",
        "    epoch_accs = []\n",
        "\n",
        "    for batch in tqdm.tqdm(dataloader, desc='training...', file=sys.stdout):\n",
        "        ids = batch['ids'].to(device)\n",
        "        length = batch['length']\n",
        "        label = batch['label'].to(device)\n",
        "        prediction = model(ids, length)\n",
        "        loss = criterion(prediction, label)\n",
        "        accuracy = get_accuracy(prediction, label)\n",
        "        optimizer.zero_grad()\n",
        "        loss.backward()\n",
        "        optimizer.step()\n",
        "        epoch_losses.append(loss.item())\n",
        "        epoch_accs.append(accuracy.item())\n",
        "        scheduler.step()\n",
        "\n",
        "    return epoch_losses, epoch_accs\n",
        "\n",
        "def evaluate(dataloader, model, criterion, device):\n",
        "    model.eval()\n",
        "    epoch_losses = []\n",
        "    epoch_accs = []\n",
        "\n",
        "    with torch.no_grad():\n",
        "        for batch in tqdm.tqdm(dataloader, desc='evaluating...', file=sys.stdout):\n",
        "            ids = batch['ids'].to(device)\n",
        "            length = batch['length']\n",
        "            label = batch['label'].to(device)\n",
        "            prediction = model(ids, length)\n",
        "            loss = criterion(prediction, label)\n",
        "            accuracy = get_accuracy(prediction, label)\n",
        "            epoch_losses.append(loss.item())\n",
        "            epoch_accs.append(accuracy.item())\n",
        "\n",
        "    return epoch_losses, epoch_accs\n",
        "\n",
        "def get_accuracy(prediction, label):\n",
        "    batch_size, _ = prediction.shape\n",
        "    predicted_classes = prediction.argmax(dim=-1)\n",
        "    correct_predictions = predicted_classes.eq(label).sum()\n",
        "    accuracy = correct_predictions / batch_size\n",
        "    return accuracy\n",
        "\n",
        "def predict_sentiment(text, model, vocab, device):\n",
        "    tokens = tokenize(vocab, text)\n",
        "    ids = [vocab[t] if t in vocab else UNK_INDEX for t in tokens]\n",
        "    length = torch.LongTensor([len(ids)])\n",
        "    tensor = torch.LongTensor(ids).unsqueeze(dim=0).to(device)\n",
        "    prediction = model(tensor, length).squeeze(dim=0)\n",
        "    probability = torch.softmax(prediction, dim=-1)\n",
        "    predicted_class = prediction.argmax(dim=-1).item()\n",
        "    predicted_probability = probability[predicted_class].item()\n",
        "    return predicted_class, predicted_probability"
      ]
    },
    {
      "cell_type": "markdown",
      "metadata": {
        "id": "e0OmzJFSC7KC"
      },
      "source": [
        "### Lab 1 (g) Implement GRU."
      ]
    },
    {
      "cell_type": "code",
      "execution_count": null,
      "metadata": {
        "id": "KneK8K7UC7KD"
      },
      "outputs": [],
      "source": [
        "class GRU(nn.Module):\n",
        "    def __init__(\n",
        "        self, \n",
        "        vocab_size: int, \n",
        "        embedding_dim: int, \n",
        "        hidden_dim: int, \n",
        "        output_dim: int, \n",
        "        n_layers: int, \n",
        "        dropout_rate: float, \n",
        "        pad_index: int,\n",
        "        bidirectional: bool,\n",
        "        **kwargs):\n",
        "        \"\"\"\n",
        "        Create a LSTM model for classification.\n",
        "        :param vocab_size: size of the vocabulary\n",
        "        :param embedding_dim: dimension of embeddings\n",
        "        :param hidden_dim: dimension of hidden features\n",
        "        :param output_dim: dimension of the output layer which equals to the number of labels.\n",
        "        :param n_layers: number of layers.\n",
        "        :param dropout_rate: dropout rate.\n",
        "        :param pad_index: index of the padding token.we\n",
        "        \"\"\"\n",
        "        super().__init__()\n",
        "        # Add your code here. Initializing each layer by the given arguments.\n",
        "        self.vocab_size = vocab_size\n",
        "        self.embedding_dim = embedding_dim\n",
        "        self.hidden_dim = hidden_dim\n",
        "        self.output_dim = output_dim\n",
        "        self.n_layers = n_layers\n",
        "        self.dropout_rate = dropout_rate\n",
        "        self.pad_index = pad_index\n",
        "        self.bidirectional = bidirectional\n",
        "        # emedding layer\n",
        "        self.embedding = nn.Embedding(num_embeddings = vocab_size, embedding_dim = embedding_dim, padding_idx = pad_index)\n",
        "        # lstm layer\n",
        "        self.gru = nn.GRU(input_size = embedding_dim, hidden_size = hidden_dim, num_layers = n_layers, bidirectional = bidirectional, batch_first=True)\n",
        "        # dropout layer\n",
        "        self.dropout = nn.Dropout(dropout_rate)\n",
        "        # linear layer\n",
        "        self.fc = nn.Linear(hidden_dim, output_dim)\n",
        "\n",
        "        # Weight Initialization. DO NOT CHANGE!\n",
        "        if \"weight_init_fn\" not in kwargs:\n",
        "            self.apply(init_weights)\n",
        "        else:\n",
        "            self.apply(kwargs[\"weight_init_fn\"])\n",
        "\n",
        "\n",
        "    def forward(self, ids:torch.Tensor, length:torch.Tensor):\n",
        "        \"\"\"\n",
        "        Feed the given token ids to the model.\n",
        "        :param ids: [batch size, seq len] batch of token ids.\n",
        "        :param length: [batch size] batch of length of the token ids.\n",
        "        :return: prediction of size [batch size, output dim].\n",
        "        \"\"\"\n",
        "        # Add your code here.\n",
        "        a = self.embedding(ids)\n",
        "        a = torch.nn.utils.rnn.pack_padded_sequence(a, batch_first=True, lengths=length, enforce_sorted=False)\n",
        "        output, (hidden) = self.gru(a.float())\n",
        "        prediction = self.fc(hidden[-1])\n",
        "        return prediction"
      ]
    },
    {
      "cell_type": "markdown",
      "metadata": {
        "id": "j0MzOUl6C7KD"
      },
      "source": [
        "### Learning rate warmup. DO NOT TOUCH!"
      ]
    },
    {
      "cell_type": "code",
      "execution_count": null,
      "metadata": {
        "id": "KKkhnbiIC7KD"
      },
      "outputs": [],
      "source": [
        "class ConstantWithWarmup(torch.optim.lr_scheduler._LRScheduler):\n",
        "    def __init__(\n",
        "        self,\n",
        "        optimizer,\n",
        "        num_warmup_steps: int,\n",
        "    ):\n",
        "        self.num_warmup_steps = num_warmup_steps\n",
        "        super().__init__(optimizer)\n",
        "\n",
        "    def get_lr(self):\n",
        "        if self._step_count <= self.num_warmup_steps:\n",
        "            # warmup\n",
        "            scale = 1.0 - (self.num_warmup_steps - self._step_count) / self.num_warmup_steps\n",
        "            lr = [base_lr * scale for base_lr in self.base_lrs]\n",
        "            self.last_lr = lr\n",
        "        else:\n",
        "            lr = self.base_lrs\n",
        "        return lr"
      ]
    },
    {
      "cell_type": "markdown",
      "metadata": {
        "id": "FYXzrZd1C7KE"
      },
      "source": [
        "### Implement the training / validation iteration here."
      ]
    },
    {
      "cell_type": "code",
      "execution_count": null,
      "metadata": {
        "id": "qXLkQSnS9xZw"
      },
      "outputs": [],
      "source": [
        "def train_and_test_model_with_hparams(hparams, model_type=\"lstm\", **kwargs):\n",
        "    # Seeding. DO NOT TOUCH! DO NOT TOUCH hparams.SEED!\n",
        "    # Set the random seeds.\n",
        "    torch.manual_seed(hparams.SEED)\n",
        "    random.seed(hparams.SEED)\n",
        "    np.random.seed(hparams.SEED)\n",
        "\n",
        "    x_train, x_valid, x_test, y_train, y_valid, y_test = load_imdb()\n",
        "    vocab = build_vocab(list(x_train), hparams=hparams)\n",
        "    vocab_size = len(vocab)\n",
        "    print(f'Length of vocabulary is {vocab_size}')\n",
        "\n",
        "    train_data = IMDB(list(x_train), list(y_train), vocab, hparams.MAX_LENGTH)\n",
        "    #print(train_data.__getitem__(0))\n",
        "    valid_data = IMDB(list(x_valid), list(y_valid), vocab, hparams.MAX_LENGTH)\n",
        "    #print(valid_data.__getitem__(0))\n",
        "    test_data = IMDB(list(x_test), list(y_test), vocab, hparams.MAX_LENGTH)\n",
        "\n",
        "    collate = functools.partial(collate_fn, pad_index=hparams.PAD_INDEX)\n",
        "\n",
        "    train_dataloader = torch.utils.data.DataLoader(\n",
        "        train_data, batch_size=hparams.BATCH_SIZE, collate_fn=collate, shuffle=True)\n",
        "    valid_dataloader = torch.utils.data.DataLoader(\n",
        "        valid_data, batch_size=hparams.BATCH_SIZE, collate_fn=collate)\n",
        "    test_dataloader = torch.utils.data.DataLoader(\n",
        "        test_data, batch_size=hparams.BATCH_SIZE, collate_fn=collate)\n",
        "    \n",
        "    # Model\n",
        "    if \"override_models_with_gru\" in kwargs and kwargs[\"override_models_with_gru\"]:\n",
        "        model = GRU(\n",
        "            vocab_size, \n",
        "            hparams.EMBEDDING_DIM, \n",
        "            hparams.HIDDEN_DIM, \n",
        "            hparams.OUTPUT_DIM,\n",
        "            hparams.N_LAYERS,\n",
        "            hparams.DROPOUT_RATE, \n",
        "            hparams.PAD_INDEX,\n",
        "            hparams.BIDIRECTIONAL,\n",
        "            **kwargs)\n",
        "    else:\n",
        "        model = LSTM(\n",
        "            vocab_size, \n",
        "            hparams.EMBEDDING_DIM, \n",
        "            hparams.HIDDEN_DIM, \n",
        "            hparams.OUTPUT_DIM,\n",
        "            hparams.N_LAYERS,\n",
        "            hparams.DROPOUT_RATE, \n",
        "            hparams.PAD_INDEX,\n",
        "            hparams.BIDIRECTIONAL,\n",
        "            **kwargs)\n",
        "    num_params = count_parameters(model)\n",
        "    print(f'The model has {num_params:,} trainable parameters')\n",
        "\n",
        "\n",
        "    device = torch.device('cuda' if torch.cuda.is_available() else 'cpu')\n",
        "    model = model.to(device)\n",
        "\n",
        "    # Optimization. Lab 2 (a)(b) should choose one of them.\n",
        "    # DO NOT TOUCH optimizer-specific hyperparameters! (e.g., eps, momentum)\n",
        "    # DO NOT change optimizer implementations!\n",
        "    if hparams.OPTIM == \"sgd\":\n",
        "        optimizer = optim.SGD(\n",
        "            model.parameters(), lr=hparams.LR, weight_decay=hparams.WD, momentum=.9)        \n",
        "    elif hparams.OPTIM == \"adagrad\":\n",
        "        optimizer = optim.Adagrad(\n",
        "            model.parameters(), lr=hparams.LR, weight_decay=hparams.WD, eps=1e-6)\n",
        "    elif hparams.OPTIM == \"adam\":\n",
        "        optimizer = optim.Adam(\n",
        "            model.parameters(), lr=hparams.LR, weight_decay=hparams.WD, eps=1e-6)\n",
        "    elif hparams.OPTIM == \"rmsprop\":\n",
        "        optimizer = optim.RMSprop(\n",
        "            model.parameters(), lr=hparams.LR, weight_decay=hparams.WD, eps=1e-6, momentum=.9)\n",
        "    else:\n",
        "        raise NotImplementedError(\"Optimizer not implemented!\")\n",
        "\n",
        "    criterion = nn.CrossEntropyLoss()\n",
        "    criterion = criterion.to(device)\n",
        "\n",
        "    # Start training\n",
        "    best_valid_loss = float('inf')\n",
        "    train_losses = []\n",
        "    train_accs = []\n",
        "    valid_losses = []\n",
        "    valid_accs = []\n",
        "    \n",
        "    # Warmup Scheduler. DO NOT TOUCH!\n",
        "    WARMUP_STEPS = 200\n",
        "    lr_scheduler = ConstantWithWarmup(optimizer, WARMUP_STEPS)\n",
        "\n",
        "    for epoch in range(hparams.N_EPOCHS):\n",
        "        \n",
        "        # Your code: implement the training process and save the best model.\n",
        "        # j=0\n",
        "        # while j < 1:\n",
        "          # for i in train_dataloader:\n",
        "          #   print(i)\n",
        "          # for i in valid_dataloader:\n",
        "          #   print(i)\n",
        "          # j+=1\n",
        "        \n",
        "        train_loss, train_acc = train(train_dataloader, model, criterion, optimizer, lr_scheduler, device)\n",
        "        valid_loss, valid_acc = evaluate(valid_dataloader, model, criterion, device)\n",
        "        \n",
        "        \n",
        "        epoch_train_loss = np.mean(train_loss)\n",
        "        epoch_train_acc = np.mean(train_acc)\n",
        "        epoch_valid_loss = np.mean(valid_loss)\n",
        "        epoch_valid_acc = np.mean(valid_acc)\n",
        "\n",
        "        # Save the model that achieves the smallest validation loss.\n",
        "        if epoch_valid_loss < best_valid_loss:\n",
        "            # Your code: save the best model somewhere (no need to submit it to Sakai)\n",
        "            torch.save(model, '/content/drive/MyDrive/Deep Learning/Assignment 3/best_model_new.pth')\n",
        "            #torch.save(model.state_dict(), '/content/drive/MyDrive/Deep Learning/Assignment 3/best_model.pth')\n",
        "            best_valid_loss = epoch_valid_loss\n",
        "\n",
        "\n",
        "        print(f'epoch: {epoch+1}')\n",
        "        print(f'train_loss: {epoch_train_loss:.3f}, train_acc: {epoch_train_acc:.3f}')\n",
        "        print(f'valid_loss: {epoch_valid_loss:.3f}, valid_acc: {epoch_valid_acc:.3f}')\n",
        "\n",
        "\n",
        "    # Your Code: Load the best model's weights.\n",
        "    # if \"override_models_with_gru\" in kwargs and kwargs[\"override_models_with_gru\"]:\n",
        "    #     model = GRU(\n",
        "    #         vocab_size, \n",
        "    #         hparams.EMBEDDING_DIM, \n",
        "    #         hparams.HIDDEN_DIM, \n",
        "    #         hparams.OUTPUT_DIM,\n",
        "    #         hparams.N_LAYERS,\n",
        "    #         hparams.DROPOUT_RATE, \n",
        "    #         hparams.PAD_INDEX,\n",
        "    #         hparams.BIDIRECTIONAL,\n",
        "    #         **kwargs)\n",
        "    # else:\n",
        "    #     model = LSTM(\n",
        "    #         vocab_size, \n",
        "    #         hparams.EMBEDDING_DIM, \n",
        "    #         hparams.HIDDEN_DIM, \n",
        "    #         hparams.OUTPUT_DIM,\n",
        "    #         hparams.N_LAYERS,\n",
        "    #         hparams.DROPOUT_RATE, \n",
        "    #         hparams.PAD_INDEX,\n",
        "    #         hparams.BIDIRECTIONAL,\n",
        "    #         **kwargs)\n",
        "    \n",
        "    model = torch.load('/content/drive/MyDrive/Deep Learning/Assignment 3/best_model_new.pth')\n",
        "    model.cuda()\n",
        "\n",
        "    # Your Code: evaluate test loss on testing dataset (NOT Validation)\n",
        "    test_loss, test_acc = evaluate(test_dataloader, model, criterion, device)\n",
        "\n",
        "    epoch_test_loss = np.mean(test_loss)\n",
        "    epoch_test_acc = np.mean(test_acc)\n",
        "    print(f'test_loss: {epoch_test_loss:.3f}, test_acc: {epoch_test_acc:.3f}')\n",
        "    \n",
        "    # Free memory for later usage.\n",
        "    del model\n",
        "    torch.cuda.empty_cache()\n",
        "    return {\n",
        "        'num_params': num_params,\n",
        "        \"test_loss\": epoch_test_loss,\n",
        "        \"test_acc\": epoch_test_acc,\n",
        "    }"
      ]
    },
    {
      "cell_type": "markdown",
      "metadata": {
        "id": "VKCu4rPBA2Sp"
      },
      "source": [
        "### Lab 1 (f): Train model with original hyperparameters, for LSTM.\n",
        "\n",
        "Train the model with default hyperparameter settings."
      ]
    },
    {
      "cell_type": "code",
      "execution_count": null,
      "metadata": {
        "id": "QsFE2IcRC7KF",
        "colab": {
          "base_uri": "https://localhost:8080/"
        },
        "outputId": "bcc8a996-a641-4b5c-fb45-62f2ab69cf6d"
      },
      "outputs": [
        {
          "output_type": "stream",
          "name": "stdout",
          "text": [
            "shape of train data is (35000,)\n",
            "shape of test data is (10000,)\n",
            "shape of valid data is (5000,)\n",
            "Length of vocabulary is 60885\n",
            "The model has 102,287 trainable parameters\n",
            "training...: 100%|██████████| 365/365 [00:21<00:00, 17.01it/s]\n",
            "evaluating...: 100%|██████████| 53/53 [00:02<00:00, 25.62it/s]\n",
            "epoch: 1\n",
            "train_loss: 0.693, train_acc: 0.498\n",
            "valid_loss: 0.693, valid_acc: 0.511\n",
            "training...: 100%|██████████| 365/365 [00:20<00:00, 17.62it/s]\n",
            "evaluating...: 100%|██████████| 53/53 [00:02<00:00, 25.56it/s]\n",
            "epoch: 2\n",
            "train_loss: 0.694, train_acc: 0.498\n",
            "valid_loss: 0.693, valid_acc: 0.511\n",
            "training...: 100%|██████████| 365/365 [00:20<00:00, 18.18it/s]\n",
            "evaluating...: 100%|██████████| 53/53 [00:02<00:00, 25.86it/s]\n",
            "epoch: 3\n",
            "train_loss: 0.693, train_acc: 0.503\n",
            "valid_loss: 0.693, valid_acc: 0.489\n",
            "training...: 100%|██████████| 365/365 [00:21<00:00, 17.09it/s]\n",
            "evaluating...: 100%|██████████| 53/53 [00:02<00:00, 25.80it/s]\n",
            "epoch: 4\n",
            "train_loss: 0.693, train_acc: 0.497\n",
            "valid_loss: 0.694, valid_acc: 0.489\n",
            "training...: 100%|██████████| 365/365 [00:20<00:00, 18.22it/s]\n",
            "evaluating...: 100%|██████████| 53/53 [00:02<00:00, 24.77it/s]\n",
            "epoch: 5\n",
            "train_loss: 0.694, train_acc: 0.498\n",
            "valid_loss: 0.693, valid_acc: 0.511\n",
            "evaluating...: 100%|██████████| 105/105 [00:04<00:00, 25.29it/s]\n",
            "test_loss: 0.694, test_acc: 0.497\n"
          ]
        }
      ],
      "source": [
        "org_hyperparams = HyperParams()\n",
        "_ = train_and_test_model_with_hparams(org_hyperparams, \"lstm_1layer_base_sgd_e32_h100\")"
      ]
    },
    {
      "cell_type": "markdown",
      "metadata": {
        "id": "Sw2lngwcC7KF"
      },
      "source": [
        "### Lab 1 (h) Train GRU with vanilla hyperparameters."
      ]
    },
    {
      "cell_type": "code",
      "execution_count": null,
      "metadata": {
        "id": "rBUddaigC7KF",
        "colab": {
          "base_uri": "https://localhost:8080/"
        },
        "outputId": "6f3bd72e-d0d2-458e-e46c-9487ce74f604"
      },
      "outputs": [
        {
          "output_type": "stream",
          "name": "stdout",
          "text": [
            "shape of train data is (35000,)\n",
            "shape of test data is (10000,)\n",
            "shape of valid data is (5000,)\n",
            "Length of vocabulary is 60885\n",
            "The model has 91,987 trainable parameters\n",
            "training...: 100%|██████████| 365/365 [00:19<00:00, 18.83it/s]\n",
            "evaluating...: 100%|██████████| 53/53 [00:02<00:00, 26.09it/s]\n",
            "epoch: 1\n",
            "train_loss: 0.693, train_acc: 0.496\n",
            "valid_loss: 0.698, valid_acc: 0.489\n",
            "training...: 100%|██████████| 365/365 [00:19<00:00, 18.74it/s]\n",
            "evaluating...: 100%|██████████| 53/53 [00:01<00:00, 26.54it/s]\n",
            "epoch: 2\n",
            "train_loss: 0.694, train_acc: 0.500\n",
            "valid_loss: 0.693, valid_acc: 0.489\n",
            "training...: 100%|██████████| 365/365 [00:20<00:00, 17.68it/s]\n",
            "evaluating...: 100%|██████████| 53/53 [00:01<00:00, 26.99it/s]\n",
            "epoch: 3\n",
            "train_loss: 0.693, train_acc: 0.496\n",
            "valid_loss: 0.694, valid_acc: 0.489\n",
            "training...: 100%|██████████| 365/365 [00:19<00:00, 18.78it/s]\n",
            "evaluating...: 100%|██████████| 53/53 [00:01<00:00, 26.55it/s]\n",
            "epoch: 4\n",
            "train_loss: 0.693, train_acc: 0.500\n",
            "valid_loss: 0.694, valid_acc: 0.511\n",
            "training...: 100%|██████████| 365/365 [00:19<00:00, 18.53it/s]\n",
            "evaluating...: 100%|██████████| 53/53 [00:02<00:00, 26.20it/s]\n",
            "epoch: 5\n",
            "train_loss: 0.694, train_acc: 0.500\n",
            "valid_loss: 0.693, valid_acc: 0.489\n",
            "evaluating...: 100%|██████████| 105/105 [00:04<00:00, 26.05it/s]\n",
            "test_loss: 0.693, test_acc: 0.503\n"
          ]
        }
      ],
      "source": [
        "org_hyperparams = HyperParams()\n",
        "_ = train_and_test_model_with_hparams(org_hyperparams, \"gru_1layer_base_sgd_e32_h100\", override_models_with_gru=True)"
      ]
    },
    {
      "cell_type": "markdown",
      "metadata": {
        "id": "llyQaaQfC7KG"
      },
      "source": [
        "### Lab 2 (a) Study of LSTM Optimizers. Hint: For adaptive optimizers, we recommend using a learning rate of 0.001 (instead of 0.01)."
      ]
    },
    {
      "cell_type": "code",
      "execution_count": null,
      "metadata": {
        "id": "5auDO4mFC7KG"
      },
      "outputs": [],
      "source": [
        "# setting the new LR and optimizer\n",
        "new_hparams = HyperParams()\n",
        "new_hparams.LR = 0.001\n",
        "new_hparams.OPTIM = \"adagrad\""
      ]
    },
    {
      "cell_type": "code",
      "source": [
        "_ = train_and_test_model_with_hparams(new_hparams, \"lstm\")"
      ],
      "metadata": {
        "colab": {
          "base_uri": "https://localhost:8080/"
        },
        "id": "7PZ_JWZCCa0H",
        "outputId": "2ddabc94-b0d5-4b50-ed2e-0abaca24db2d"
      },
      "execution_count": null,
      "outputs": [
        {
          "output_type": "stream",
          "name": "stdout",
          "text": [
            "shape of train data is (35000,)\n",
            "shape of test data is (10000,)\n",
            "shape of valid data is (5000,)\n",
            "Length of vocabulary is 60885\n",
            "The model has 102,287 trainable parameters\n",
            "training...: 100%|██████████| 365/365 [00:19<00:00, 19.08it/s]\n",
            "evaluating...: 100%|██████████| 53/53 [00:01<00:00, 27.36it/s]\n",
            "epoch: 1\n",
            "train_loss: 0.693, train_acc: 0.497\n",
            "valid_loss: 0.693, valid_acc: 0.511\n",
            "training...: 100%|██████████| 365/365 [00:19<00:00, 19.15it/s]\n",
            "evaluating...: 100%|██████████| 53/53 [00:01<00:00, 27.18it/s]\n",
            "epoch: 2\n",
            "train_loss: 0.693, train_acc: 0.530\n",
            "valid_loss: 0.689, valid_acc: 0.545\n",
            "training...: 100%|██████████| 365/365 [00:18<00:00, 19.46it/s]\n",
            "evaluating...: 100%|██████████| 53/53 [00:01<00:00, 27.36it/s]\n",
            "epoch: 3\n",
            "train_loss: 0.648, train_acc: 0.642\n",
            "valid_loss: 0.643, valid_acc: 0.669\n",
            "training...: 100%|██████████| 365/365 [00:19<00:00, 19.14it/s]\n",
            "evaluating...: 100%|██████████| 53/53 [00:01<00:00, 27.50it/s]\n",
            "epoch: 4\n",
            "train_loss: 0.532, train_acc: 0.786\n",
            "valid_loss: 0.523, valid_acc: 0.801\n",
            "training...: 100%|██████████| 365/365 [00:18<00:00, 19.30it/s]\n",
            "evaluating...: 100%|██████████| 53/53 [00:01<00:00, 27.33it/s]\n",
            "epoch: 5\n",
            "train_loss: 0.492, train_acc: 0.816\n",
            "valid_loss: 0.511, valid_acc: 0.799\n",
            "evaluating...: 100%|██████████| 105/105 [00:03<00:00, 26.73it/s]\n",
            "test_loss: 0.504, test_acc: 0.799\n"
          ]
        }
      ]
    },
    {
      "cell_type": "markdown",
      "metadata": {
        "id": "Z9lnLvAHC7KH"
      },
      "source": [
        "### Lab 2 (b): Study of GRU Optimizers. Hint: For adaptive optimizers, we recommend using a learning rate of 0.001 (instead of 0.01)."
      ]
    },
    {
      "cell_type": "code",
      "execution_count": null,
      "metadata": {
        "id": "_V3UlM_eC7KI"
      },
      "outputs": [],
      "source": [
        "# setting the new LR and optimizer\n",
        "new_hparams = HyperParams()\n",
        "new_hparams.LR = 0.001\n",
        "new_hparams.OPTIM = \"adagrad\""
      ]
    },
    {
      "cell_type": "code",
      "source": [
        "_ = train_and_test_model_with_hparams(new_hparams, \"gru\", override_models_with_gru=True)"
      ],
      "metadata": {
        "colab": {
          "base_uri": "https://localhost:8080/"
        },
        "id": "bpYR2gdLcFJi",
        "outputId": "0b683766-1f5c-4925-b552-e7eb4b2b4044"
      },
      "execution_count": null,
      "outputs": [
        {
          "output_type": "stream",
          "name": "stdout",
          "text": [
            "shape of train data is (35000,)\n",
            "shape of test data is (10000,)\n",
            "shape of valid data is (5000,)\n",
            "Length of vocabulary is 60885\n",
            "The model has 91,987 trainable parameters\n",
            "training...: 100%|██████████| 365/365 [00:18<00:00, 19.85it/s]\n",
            "evaluating...: 100%|██████████| 53/53 [00:01<00:00, 26.82it/s]\n",
            "epoch: 1\n",
            "train_loss: 0.693, train_acc: 0.502\n",
            "valid_loss: 0.693, valid_acc: 0.489\n",
            "training...: 100%|██████████| 365/365 [00:18<00:00, 19.59it/s]\n",
            "evaluating...: 100%|██████████| 53/53 [00:01<00:00, 27.74it/s]\n",
            "epoch: 2\n",
            "train_loss: 0.693, train_acc: 0.524\n",
            "valid_loss: 0.692, valid_acc: 0.525\n",
            "training...: 100%|██████████| 365/365 [00:18<00:00, 19.69it/s]\n",
            "evaluating...: 100%|██████████| 53/53 [00:01<00:00, 28.15it/s]\n",
            "epoch: 3\n",
            "train_loss: 0.662, train_acc: 0.612\n",
            "valid_loss: 0.545, valid_acc: 0.786\n",
            "training...: 100%|██████████| 365/365 [00:18<00:00, 19.73it/s]\n",
            "evaluating...: 100%|██████████| 53/53 [00:01<00:00, 27.20it/s]\n",
            "epoch: 4\n",
            "train_loss: 0.514, train_acc: 0.797\n",
            "valid_loss: 0.524, valid_acc: 0.792\n",
            "training...: 100%|██████████| 365/365 [00:18<00:00, 19.91it/s]\n",
            "evaluating...: 100%|██████████| 53/53 [00:01<00:00, 28.00it/s]\n",
            "epoch: 5\n",
            "train_loss: 0.465, train_acc: 0.831\n",
            "valid_loss: 0.545, valid_acc: 0.771\n",
            "evaluating...: 100%|██████████| 105/105 [00:03<00:00, 27.25it/s]\n",
            "test_loss: 0.517, test_acc: 0.787\n"
          ]
        }
      ]
    },
    {
      "cell_type": "markdown",
      "metadata": {
        "id": "A5ZfSkdbC7KI"
      },
      "source": [
        "### Lab 2 (c) Deeper LSTMs"
      ]
    },
    {
      "cell_type": "code",
      "execution_count": null,
      "metadata": {
        "id": "qNEpL2KgC7KI",
        "colab": {
          "base_uri": "https://localhost:8080/"
        },
        "outputId": "9883b166-4015-4c97-fcb2-2a0deb6a9fd8"
      },
      "outputs": [
        {
          "output_type": "stream",
          "name": "stdout",
          "text": [
            "shape of train data is (35000,)\n",
            "shape of test data is (10000,)\n",
            "shape of valid data is (5000,)\n",
            "Length of vocabulary is 60885\n",
            "The model has 263,887 trainable parameters\n",
            "training...: 100%|██████████| 365/365 [00:22<00:00, 16.30it/s]\n",
            "evaluating...: 100%|██████████| 53/53 [00:02<00:00, 25.14it/s]\n",
            "epoch: 1\n",
            "train_loss: 0.695, train_acc: 0.514\n",
            "valid_loss: 0.693, valid_acc: 0.511\n",
            "training...: 100%|██████████| 365/365 [00:25<00:00, 14.39it/s]\n",
            "evaluating...: 100%|██████████| 53/53 [00:02<00:00, 24.35it/s]\n",
            "epoch: 2\n",
            "train_loss: 0.696, train_acc: 0.500\n",
            "valid_loss: 0.693, valid_acc: 0.511\n",
            "training...: 100%|██████████| 365/365 [00:24<00:00, 14.72it/s]\n",
            "evaluating...: 100%|██████████| 53/53 [00:02<00:00, 25.35it/s]\n",
            "epoch: 3\n",
            "train_loss: 0.695, train_acc: 0.502\n",
            "valid_loss: 0.693, valid_acc: 0.511\n",
            "training...: 100%|██████████| 365/365 [00:23<00:00, 15.78it/s]\n",
            "evaluating...: 100%|██████████| 53/53 [00:02<00:00, 24.64it/s]\n",
            "epoch: 4\n",
            "train_loss: 0.695, train_acc: 0.500\n",
            "valid_loss: 0.693, valid_acc: 0.511\n",
            "training...: 100%|██████████| 365/365 [00:26<00:00, 13.79it/s]\n",
            "evaluating...: 100%|██████████| 53/53 [00:02<00:00, 25.24it/s]\n",
            "epoch: 5\n",
            "train_loss: 0.695, train_acc: 0.497\n",
            "valid_loss: 0.693, valid_acc: 0.511\n",
            "evaluating...: 100%|██████████| 105/105 [00:04<00:00, 22.67it/s]\n",
            "test_loss: 0.693, test_acc: 0.497\n"
          ]
        }
      ],
      "source": [
        "new_hparams = HyperParams()\n",
        "new_hparams.OPTIM = 'rmsprop'\n",
        "new_hparams.LR = 0.001\n",
        "new_hparams.N_LAYERS = 3\n",
        "\n",
        "_ = train_and_test_model_with_hparams(new_hparams, \"deeper_lstm\")"
      ]
    },
    {
      "cell_type": "markdown",
      "metadata": {
        "id": "0fZhE3pEC7KI"
      },
      "source": [
        "### Lab 2 (d) Wider LSTMs"
      ]
    },
    {
      "cell_type": "code",
      "execution_count": null,
      "metadata": {
        "id": "dz3q8EQYC7KI",
        "colab": {
          "base_uri": "https://localhost:8080/"
        },
        "outputId": "f29ace60-0cbc-422e-d71f-6b08a82cd8b2"
      },
      "outputs": [
        {
          "output_type": "stream",
          "name": "stdout",
          "text": [
            "shape of train data is (35000,)\n",
            "shape of test data is (10000,)\n",
            "shape of valid data is (5000,)\n",
            "Length of vocabulary is 60885\n",
            "The model has 161,681 trainable parameters\n",
            "training...: 100%|██████████| 365/365 [00:20<00:00, 18.13it/s]\n",
            "evaluating...: 100%|██████████| 53/53 [00:02<00:00, 25.14it/s]\n",
            "epoch: 1\n",
            "train_loss: 0.738, train_acc: 0.547\n",
            "valid_loss: 0.667, valid_acc: 0.572\n",
            "training...: 100%|██████████| 365/365 [00:20<00:00, 18.06it/s]\n",
            "evaluating...: 100%|██████████| 53/53 [00:02<00:00, 25.37it/s]\n",
            "epoch: 2\n",
            "train_loss: 0.531, train_acc: 0.715\n",
            "valid_loss: 0.359, valid_acc: 0.850\n",
            "training...: 100%|██████████| 365/365 [00:19<00:00, 18.45it/s]\n",
            "evaluating...: 100%|██████████| 53/53 [00:02<00:00, 25.32it/s]\n",
            "epoch: 3\n",
            "train_loss: 0.304, train_acc: 0.877\n",
            "valid_loss: 0.334, valid_acc: 0.862\n",
            "training...: 100%|██████████| 365/365 [00:19<00:00, 18.28it/s]\n",
            "evaluating...: 100%|██████████| 53/53 [00:02<00:00, 25.95it/s]\n",
            "epoch: 4\n",
            "train_loss: 0.243, train_acc: 0.906\n",
            "valid_loss: 0.305, valid_acc: 0.873\n",
            "training...: 100%|██████████| 365/365 [00:20<00:00, 18.21it/s]\n",
            "evaluating...: 100%|██████████| 53/53 [00:02<00:00, 25.06it/s]\n",
            "epoch: 5\n",
            "train_loss: 0.202, train_acc: 0.924\n",
            "valid_loss: 0.367, valid_acc: 0.860\n",
            "evaluating...: 100%|██████████| 105/105 [00:04<00:00, 24.14it/s]\n",
            "test_loss: 0.302, test_acc: 0.875\n"
          ]
        }
      ],
      "source": [
        "new_hparams = HyperParams()\n",
        "new_hparams.OPTIM = 'rmsprop'\n",
        "new_hparams.LR = 0.001\n",
        "new_hparams.HIDDEN_DIM = 157\n",
        "\n",
        "_ = train_and_test_model_with_hparams(new_hparams, \"wider_lstm\")"
      ]
    },
    {
      "cell_type": "markdown",
      "metadata": {
        "id": "j1U3fegRC7KI"
      },
      "source": [
        "### Lab 2 (e) Larger Embedding Table"
      ]
    },
    {
      "cell_type": "code",
      "execution_count": null,
      "metadata": {
        "id": "zOBlJg2EC7KJ",
        "colab": {
          "base_uri": "https://localhost:8080/"
        },
        "outputId": "0280bc1a-8c58-4f67-dc78-ca9ac1b4f99e"
      },
      "outputs": [
        {
          "output_type": "stream",
          "name": "stdout",
          "text": [
            "shape of train data is (35000,)\n",
            "shape of test data is (10000,)\n",
            "shape of valid data is (5000,)\n",
            "Length of vocabulary is 60885\n",
            "The model has 2,798,827 trainable parameters\n",
            "training...: 100%|██████████| 365/365 [00:19<00:00, 18.36it/s]\n",
            "evaluating...: 100%|██████████| 53/53 [00:02<00:00, 26.06it/s]\n",
            "epoch: 1\n",
            "train_loss: 0.594, train_acc: 0.661\n",
            "valid_loss: 0.352, valid_acc: 0.847\n",
            "training...: 100%|██████████| 365/365 [00:19<00:00, 18.54it/s]\n",
            "evaluating...: 100%|██████████| 53/53 [00:02<00:00, 25.97it/s]\n",
            "epoch: 2\n",
            "train_loss: 0.288, train_acc: 0.882\n",
            "valid_loss: 0.306, valid_acc: 0.868\n",
            "training...: 100%|██████████| 365/365 [00:19<00:00, 18.44it/s]\n",
            "evaluating...: 100%|██████████| 53/53 [00:02<00:00, 26.08it/s]\n",
            "epoch: 3\n",
            "train_loss: 0.194, train_acc: 0.930\n",
            "valid_loss: 0.325, valid_acc: 0.869\n",
            "training...: 100%|██████████| 365/365 [00:19<00:00, 18.65it/s]\n",
            "evaluating...: 100%|██████████| 53/53 [00:02<00:00, 26.07it/s]\n",
            "epoch: 4\n",
            "train_loss: 0.130, train_acc: 0.954\n",
            "valid_loss: 0.393, valid_acc: 0.858\n",
            "training...: 100%|██████████| 365/365 [00:19<00:00, 18.58it/s]\n",
            "evaluating...: 100%|██████████| 53/53 [00:01<00:00, 26.51it/s]\n",
            "epoch: 5\n",
            "train_loss: 0.082, train_acc: 0.972\n",
            "valid_loss: 0.470, valid_acc: 0.858\n",
            "evaluating...: 100%|██████████| 105/105 [00:04<00:00, 25.71it/s]\n",
            "test_loss: 0.297, test_acc: 0.875\n"
          ]
        }
      ],
      "source": [
        "# rmsprop - LSTM\n",
        "new_hparams = HyperParams()\n",
        "new_hparams.OPTIM = 'rmsprop'\n",
        "new_hparams.LR = 0.001\n",
        "new_hparams.EMBEDDING_DIM= 45\n",
        "\n",
        "_ = train_and_test_model_with_hparams(new_hparams, \"embedding_lstm\")"
      ]
    },
    {
      "cell_type": "markdown",
      "metadata": {
        "id": "G6PCBiAxC7KJ"
      },
      "source": [
        "### Lab 2(f) Compound scaling of embedding_dim, hidden_dim, layers"
      ]
    },
    {
      "cell_type": "markdown",
      "metadata": {
        "id": "LVxC6zJ3C7KK"
      },
      "source": [
        "### Lab 2 (g) Bi-Directional LSTM, using best architecture from (f)"
      ]
    }
  ],
  "metadata": {
    "accelerator": "GPU",
    "colab": {
      "provenance": [],
      "toc_visible": true,
      "include_colab_link": true
    },
    "gpuClass": "standard",
    "kernelspec": {
      "display_name": "Python 3",
      "language": "python",
      "name": "python3"
    },
    "language_info": {
      "codemirror_mode": {
        "name": "ipython",
        "version": 3
      },
      "file_extension": ".py",
      "mimetype": "text/x-python",
      "name": "python",
      "nbconvert_exporter": "python",
      "pygments_lexer": "ipython3",
      "version": "3.8.11"
    }
  },
  "nbformat": 4,
  "nbformat_minor": 0
}